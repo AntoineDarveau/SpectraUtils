{
 "cells": [
  {
   "cell_type": "code",
   "execution_count": 1,
   "outputs": [],
   "source": [
    "import matplotlib.pyplot as plt\n",
    "\n",
    "%matplotlib inline"
   ],
   "metadata": {
    "collapsed": false
   }
  },
  {
   "cell_type": "code",
   "execution_count": 3,
   "outputs": [],
   "source": [
    "import numpy as np\n",
    "from phoenix_models import PhoenixInterpGrid\n",
    "from convolution import get_wv_constant_res"
   ],
   "metadata": {
    "collapsed": false
   }
  },
  {
   "cell_type": "markdown",
   "source": [
    "# Data"
   ],
   "metadata": {
    "collapsed": false
   }
  },
  {
   "cell_type": "code",
   "execution_count": 5,
   "outputs": [],
   "source": [
    "# Fake wavelength range from imaginary data\n",
    "wave_data = np.linspace(1.1, 2.8, 2000)"
   ],
   "metadata": {
    "collapsed": false
   }
  },
  {
   "cell_type": "markdown",
   "source": [
    "## PHOENIX inputs"
   ],
   "metadata": {
    "collapsed": false
   }
  },
  {
   "cell_type": "code",
   "execution_count": 7,
   "outputs": [],
   "source": [
    "phnx_inputs = dict()\n",
    "\n",
    "# Parameters (range or fixed parameter)\n",
    "phnx_inputs['teff'] = [7000, 7600]\n",
    "phnx_inputs['logg'] = [4, 5.5]\n",
    "phnx_inputs['metal'] = [-1, 1]\n",
    "phnx_inputs['alpha'] = 0.0  # Constant so not interpolated (can be if needed)\n",
    "\n",
    "#\n",
    "# Other parameters\n",
    "#\n",
    "\n",
    "# wavelenngth range (from data to be fitted)\n",
    "wv_range = [np.min(wave_data), np.max(wave_data)]  # in microns\n",
    "\n",
    "phnx_inputs['wv_range'] = wv_range  # full range: [0.955, 2.516]\n",
    "phnx_inputs['resolution'] = 1000  # Resolution of the output\n",
    "phnx_inputs['oversampling'] = 6  # Oversampling of the grid used for interpolation\n",
    "phnx_inputs['n_fwhm'] = 7  # Where to cut the convolution kernel\n",
    "phnx_inputs['output_wv_grid'] = None  # The grid used for interpolation can be directly specified\n",
    "phnx_inputs['method'] = 'linear'   # Type of interpolation (more than linear might be too heavy for MCMC)\n",
    "phnx_inputs['query'] = False  # Access to internet? (will download missing PHOENIX models)"
   ],
   "metadata": {
    "collapsed": false
   }
  },
  {
   "cell_type": "markdown",
   "source": [
    "# Interpolate"
   ],
   "metadata": {
    "collapsed": false
   }
  },
  {
   "cell_type": "code",
   "execution_count": null,
   "outputs": [],
   "source": [
    "phoenix_interp_spec = PhoenixInterpGrid(**phnx_inputs)"
   ],
   "metadata": {
    "collapsed": false
   }
  },
  {
   "cell_type": "code",
   "execution_count": 6,
   "outputs": [
    {
     "ename": "FileNotFoundError",
     "evalue": "Cannot find /Users/antoinedb/Models/PHOENIX_HiRes/PHOENIX-ACES-AGSS-COND-2011/Z-1.0/lte07000-4.00-1.0.PHOENIX-ACES-AGSS-COND-2011-HiRes.fits.  Use `query=True` to download model file.",
     "output_type": "error",
     "traceback": [
      "\u001B[0;31m---------------------------------------------------------------------------\u001B[0m",
      "\u001B[0;31mFileNotFoundError\u001B[0m                         Traceback (most recent call last)",
      "\u001B[0;32m<ipython-input-6-80e86e1d2d3e>\u001B[0m in \u001B[0;36m<module>\u001B[0;34m\u001B[0m\n\u001B[1;32m     23\u001B[0m \u001B[0;34m\u001B[0m\u001B[0m\n\u001B[1;32m     24\u001B[0m \u001B[0;34m\u001B[0m\u001B[0m\n\u001B[0;32m---> 25\u001B[0;31m \u001B[0mphoenix_interp_spec\u001B[0m \u001B[0;34m=\u001B[0m \u001B[0mPhoenixInterpGrid\u001B[0m\u001B[0;34m(\u001B[0m\u001B[0;34m**\u001B[0m\u001B[0mphnx_inputs\u001B[0m\u001B[0;34m)\u001B[0m\u001B[0;34m\u001B[0m\u001B[0;34m\u001B[0m\u001B[0m\n\u001B[0m\u001B[1;32m     26\u001B[0m \u001B[0;34m\u001B[0m\u001B[0m\n\u001B[1;32m     27\u001B[0m \u001B[0;34m\u001B[0m\u001B[0m\n",
      "\u001B[0;32m~/PycharmProjects/SpectraUtils/phoenix_models.py\u001B[0m in \u001B[0;36m__init__\u001B[0;34m(self, teff, logg, metal, alpha, wv_range, query, resolution, oversampling, n_fwhm, output_wv_grid, method)\u001B[0m\n\u001B[1;32m    280\u001B[0m                                      \u001B[0mquery\u001B[0m\u001B[0;34m=\u001B[0m\u001B[0mquery\u001B[0m\u001B[0;34m,\u001B[0m\u001B[0;34m\u001B[0m\u001B[0;34m\u001B[0m\u001B[0m\n\u001B[1;32m    281\u001B[0m                                      \u001B[0mwv_range\u001B[0m\u001B[0;34m=\u001B[0m\u001B[0mwv_range\u001B[0m\u001B[0;34m,\u001B[0m \u001B[0mresolution\u001B[0m\u001B[0;34m=\u001B[0m\u001B[0mresolution\u001B[0m\u001B[0;34m,\u001B[0m \u001B[0moversampling\u001B[0m\u001B[0;34m=\u001B[0m\u001B[0moversampling\u001B[0m\u001B[0;34m,\u001B[0m \u001B[0mn_fwhm\u001B[0m\u001B[0;34m=\u001B[0m\u001B[0mn_fwhm\u001B[0m\u001B[0;34m,\u001B[0m\u001B[0;34m\u001B[0m\u001B[0;34m\u001B[0m\u001B[0m\n\u001B[0;32m--> 282\u001B[0;31m                                      output_wv_grid=output_wv_grid, method=method)\n\u001B[0m\u001B[1;32m    283\u001B[0m \u001B[0;34m\u001B[0m\u001B[0m\n\u001B[1;32m    284\u001B[0m         \u001B[0mself\u001B[0m\u001B[0;34m.\u001B[0m\u001B[0mfct_interp\u001B[0m \u001B[0;34m=\u001B[0m \u001B[0moutput\u001B[0m\u001B[0;34m[\u001B[0m\u001B[0;36m0\u001B[0m\u001B[0;34m]\u001B[0m\u001B[0;34m\u001B[0m\u001B[0;34m\u001B[0m\u001B[0m\n",
      "\u001B[0;32m~/PycharmProjects/SpectraUtils/phoenix_models.py\u001B[0m in \u001B[0;36minterp_phoenix_grid\u001B[0;34m(teff, logg, metal, alpha, wv_range, resolution, oversampling, n_fwhm, output_wv_grid, method, query)\u001B[0m\n\u001B[1;32m    220\u001B[0m     \u001B[0;31m# Check if all files are downloaded if query is False\u001B[0m\u001B[0;34m\u001B[0m\u001B[0;34m\u001B[0m\u001B[0;34m\u001B[0m\u001B[0m\n\u001B[1;32m    221\u001B[0m     \u001B[0;32mif\u001B[0m \u001B[0;32mnot\u001B[0m \u001B[0mquery\u001B[0m\u001B[0;34m:\u001B[0m\u001B[0;34m\u001B[0m\u001B[0;34m\u001B[0m\u001B[0m\n\u001B[0;32m--> 222\u001B[0;31m         \u001B[0m_\u001B[0m \u001B[0;34m=\u001B[0m \u001B[0mget_from_phoenix_grid\u001B[0m\u001B[0;34m(\u001B[0m\u001B[0mparam_grids\u001B[0m\u001B[0;34m,\u001B[0m \u001B[0mquery\u001B[0m\u001B[0;34m=\u001B[0m\u001B[0mquery\u001B[0m\u001B[0;34m)\u001B[0m\u001B[0;34m\u001B[0m\u001B[0;34m\u001B[0m\u001B[0m\n\u001B[0m\u001B[1;32m    223\u001B[0m \u001B[0;34m\u001B[0m\u001B[0m\n\u001B[1;32m    224\u001B[0m     \u001B[0;31m# Use list of keys to make sure the order is respected\u001B[0m\u001B[0;34m\u001B[0m\u001B[0;34m\u001B[0m\u001B[0;34m\u001B[0m\u001B[0m\n",
      "\u001B[0;32m~/PycharmProjects/SpectraUtils/phoenix_models.py\u001B[0m in \u001B[0;36mget_from_phoenix_grid\u001B[0;34m(param_grid, query)\u001B[0m\n\u001B[1;32m    154\u001B[0m         \u001B[0;31m# Save full filepath value in dict\u001B[0m\u001B[0;34m\u001B[0m\u001B[0;34m\u001B[0m\u001B[0;34m\u001B[0m\u001B[0m\n\u001B[1;32m    155\u001B[0m         \u001B[0mkey\u001B[0m \u001B[0;34m=\u001B[0m \u001B[0mtuple\u001B[0m\u001B[0;34m(\u001B[0m\u001B[0mkwargs\u001B[0m\u001B[0;34m.\u001B[0m\u001B[0mitems\u001B[0m\u001B[0;34m(\u001B[0m\u001B[0;34m)\u001B[0m\u001B[0;34m)\u001B[0m\u001B[0;34m\u001B[0m\u001B[0;34m\u001B[0m\u001B[0m\n\u001B[0;32m--> 156\u001B[0;31m         \u001B[0mfilepath_dict\u001B[0m\u001B[0;34m[\u001B[0m\u001B[0mkey\u001B[0m\u001B[0;34m]\u001B[0m \u001B[0;34m=\u001B[0m \u001B[0mget_file\u001B[0m\u001B[0;34m(\u001B[0m\u001B[0mfilepath\u001B[0m\u001B[0;34m,\u001B[0m \u001B[0mquery\u001B[0m\u001B[0;34m=\u001B[0m\u001B[0mquery\u001B[0m\u001B[0;34m)\u001B[0m\u001B[0;34m\u001B[0m\u001B[0;34m\u001B[0m\u001B[0m\n\u001B[0m\u001B[1;32m    157\u001B[0m \u001B[0;34m\u001B[0m\u001B[0m\n\u001B[1;32m    158\u001B[0m     \u001B[0;32mreturn\u001B[0m \u001B[0mfilepath_dict\u001B[0m\u001B[0;34m\u001B[0m\u001B[0;34m\u001B[0m\u001B[0m\n",
      "\u001B[0;32m~/PycharmProjects/SpectraUtils/phoenix_models.py\u001B[0m in \u001B[0;36mget_file\u001B[0;34m(filepath, query)\u001B[0m\n\u001B[1;32m    125\u001B[0m         \u001B[0mmsg\u001B[0m \u001B[0;34m=\u001B[0m \u001B[0;34mf'Cannot find {local_filepath}.  '\u001B[0m\u001B[0;34m\u001B[0m\u001B[0;34m\u001B[0m\u001B[0m\n\u001B[1;32m    126\u001B[0m         \u001B[0mmsg\u001B[0m \u001B[0;34m+=\u001B[0m \u001B[0;34mf'Use `query=True` to download model file.'\u001B[0m\u001B[0;34m\u001B[0m\u001B[0;34m\u001B[0m\u001B[0m\n\u001B[0;32m--> 127\u001B[0;31m         \u001B[0;32mraise\u001B[0m \u001B[0mFileNotFoundError\u001B[0m\u001B[0;34m(\u001B[0m\u001B[0mmsg\u001B[0m\u001B[0;34m)\u001B[0m\u001B[0;34m\u001B[0m\u001B[0;34m\u001B[0m\u001B[0m\n\u001B[0m\u001B[1;32m    128\u001B[0m \u001B[0;34m\u001B[0m\u001B[0m\n\u001B[1;32m    129\u001B[0m     \u001B[0;32mif\u001B[0m \u001B[0;32mnot\u001B[0m \u001B[0mlocal_filepath\u001B[0m\u001B[0;34m.\u001B[0m\u001B[0mis_file\u001B[0m\u001B[0;34m(\u001B[0m\u001B[0;34m)\u001B[0m\u001B[0;34m:\u001B[0m\u001B[0;34m\u001B[0m\u001B[0;34m\u001B[0m\u001B[0m\n",
      "\u001B[0;31mFileNotFoundError\u001B[0m: Cannot find /Users/antoinedb/Models/PHOENIX_HiRes/PHOENIX-ACES-AGSS-COND-2011/Z-1.0/lte07000-4.00-1.0.PHOENIX-ACES-AGSS-COND-2011-HiRes.fits.  Use `query=True` to download model file."
     ]
    }
   ],
   "source": [
    "phnx_flux = phoenix_interp_spec(wave_data, teff=7400, logg=4.5, metal=0)\n",
    "\n",
    "plt.plot(wave_data, phnx_flux)"
   ],
   "metadata": {
    "collapsed": false
   }
  },
  {
   "cell_type": "code",
   "execution_count": null,
   "outputs": [],
   "source": [],
   "metadata": {
    "collapsed": false
   }
  }
 ],
 "metadata": {
  "kernelspec": {
   "display_name": "Python 3",
   "language": "python",
   "name": "python3"
  },
  "language_info": {
   "codemirror_mode": {
    "name": "ipython",
    "version": 2
   },
   "file_extension": ".py",
   "mimetype": "text/x-python",
   "name": "python",
   "nbconvert_exporter": "python",
   "pygments_lexer": "ipython2",
   "version": "2.7.6"
  }
 },
 "nbformat": 4,
 "nbformat_minor": 0
}
